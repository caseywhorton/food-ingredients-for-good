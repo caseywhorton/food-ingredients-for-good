{
 "cells": [
  {
   "cell_type": "markdown",
   "id": "6a9c3902-fac1-41df-a2ad-ed15b43f6c2b",
   "metadata": {},
   "source": [
    "# Food Ingredients Exploratory Data Analysis"
   ]
  },
  {
   "cell_type": "code",
   "execution_count": 2,
   "id": "95e4eedd-8127-4cae-8643-536334fe0fc9",
   "metadata": {},
   "outputs": [],
   "source": [
    "import pandas as pd\n",
    "import os"
   ]
  },
  {
   "cell_type": "code",
   "execution_count": 3,
   "id": "c6afdd30-834e-47bd-a1d9-8645a55aff26",
   "metadata": {},
   "outputs": [],
   "source": [
    "df = pd.read_csv(os.getcwd() + '/data/cleaned_ingredients.csv')"
   ]
  },
  {
   "cell_type": "code",
   "execution_count": 5,
   "id": "8228ce46-76de-4f26-a377-85e484c98241",
   "metadata": {},
   "outputs": [
    {
     "data": {
      "text/plain": [
       "0            butter with salt\n",
       "1       butter whipped w salt\n",
       "2        butter oil anhydrous\n",
       "3                 cheese blue\n",
       "4                cheese brick\n",
       "                ...          \n",
       "9313                     rohu\n",
       "9314                     crab\n",
       "9315             prawns  big \n",
       "9316           prawns  small \n",
       "9317             tiger prawns\n",
       "Name: Descrip, Length: 9318, dtype: object"
      ]
     },
     "execution_count": 5,
     "metadata": {},
     "output_type": "execute_result"
    }
   ],
   "source": [
    "df.Descrip"
   ]
  },
  {
   "cell_type": "code",
   "execution_count": null,
   "id": "6b4f6ddc-0c31-447e-8575-d3f614e48c79",
   "metadata": {},
   "outputs": [],
   "source": []
  }
 ],
 "metadata": {
  "kernelspec": {
   "display_name": "Python 3 (ipykernel)",
   "language": "python",
   "name": "python3"
  },
  "language_info": {
   "codemirror_mode": {
    "name": "ipython",
    "version": 3
   },
   "file_extension": ".py",
   "mimetype": "text/x-python",
   "name": "python",
   "nbconvert_exporter": "python",
   "pygments_lexer": "ipython3",
   "version": "3.10.8"
  }
 },
 "nbformat": 4,
 "nbformat_minor": 5
}
