{
 "cells": [
  {
   "cell_type": "markdown",
   "id": "a8c07300-b6a5-4571-87d0-f3eddf6b9207",
   "metadata": {},
   "source": [
    "# transformations\n",
    "\n",
    "+ min max scaler\n",
    "+ regression imputation\n",
    "\n",
    "# data quality checks\n",
    "\n",
    "+ float values for features\n",
    "    + null else\n",
    "+ "
   ]
  },
  {
   "cell_type": "code",
   "execution_count": null,
   "id": "cdff9e15-d163-4874-a3c1-676db159c5c1",
   "metadata": {},
   "outputs": [],
   "source": []
  }
 ],
 "metadata": {
  "kernelspec": {
   "display_name": "Python 3 (ipykernel)",
   "language": "python",
   "name": "python3"
  },
  "language_info": {
   "codemirror_mode": {
    "name": "ipython",
    "version": 3
   },
   "file_extension": ".py",
   "mimetype": "text/x-python",
   "name": "python",
   "nbconvert_exporter": "python",
   "pygments_lexer": "ipython3",
   "version": "3.10.8"
  }
 },
 "nbformat": 4,
 "nbformat_minor": 5
}
