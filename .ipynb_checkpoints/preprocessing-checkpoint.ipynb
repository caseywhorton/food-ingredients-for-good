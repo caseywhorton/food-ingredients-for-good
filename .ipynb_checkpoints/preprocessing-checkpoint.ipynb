{
 "cells": [
  {
   "cell_type": "markdown",
   "id": "a8c07300-b6a5-4571-87d0-f3eddf6b9207",
   "metadata": {},
   "source": [
    "# preprocessing\n",
    "\n",
    "## Transformations for ML\n",
    "\n",
    "+ min max scaler\n",
    "+ regression imputation\n",
    "+ tokenize text\n",
    "    + text embedding\n",
    "\n",
    "## Cleansing for Ingredient and Recipe Data\n",
    "\n",
    "### Ingredient\n",
    "\n",
    "### Recipe\n",
    "\n",
    "## data quality checks\n",
    "\n",
    "+ float values for features\n",
    "    + null else\n",
    "+ non-negative values for features"
   ]
  },
  {
   "cell_type": "markdown",
   "id": "2c89194a-2fa1-43c4-b2ff-dd1b8bcf91d9",
   "metadata": {},
   "source": [
    "# Development"
   ]
  },
  {
   "cell_type": "code",
   "execution_count": null,
   "id": "fa1fe552-7329-4e8d-94ea-a3b90a61217c",
   "metadata": {},
   "outputs": [],
   "source": [
    "import pandas as pd\n",
    "import numpy as np\n",
    "import os"
   ]
  },
  {
   "cell_type": "code",
   "execution_count": 28,
   "id": "96db1a09-6326-4abc-9fe2-6e0de6c3f053",
   "metadata": {},
   "outputs": [],
   "source": [
    "df = pd.read_csv(os.getcwd() + '/data/cleaned_ingredients.csv')\n",
    "df.columns"
   ]
  },
  {
   "cell_type": "markdown",
   "id": "ceb5d440-673c-4018-905d-652493bf1886",
   "metadata": {},
   "source": [
    "## Data type errors\n",
    "\n",
    "+ Will need to correct data type errors when preparing data for ML\n",
    "+ Will need to correct data type errors when accepting new observations (post-deployment)"
   ]
  },
  {
   "cell_type": "code",
   "execution_count": 121,
   "id": "52083487-01cc-48e8-8027-4ef3217930cc",
   "metadata": {},
   "outputs": [],
   "source": [
    "def error_flg(series):\n",
    "    return (not ((series.dtype == 'int64') | (series.dtype == 'float64')))"
   ]
  },
  {
   "cell_type": "code",
   "execution_count": null,
   "id": "c1ca94c8-2d5f-4c26-a87d-f16f6e226254",
   "metadata": {},
   "outputs": [],
   "source": [
    "# searching a column/series for datatype errors\n",
    "a = pd.Series([1,'g',3])\n",
    "error_flg(df['VitE_mg'])"
   ]
  },
  {
   "cell_type": "code",
   "execution_count": 112,
   "id": "a4da8414-b3fc-4b43-928b-b93aee4dd962",
   "metadata": {},
   "outputs": [
    {
     "data": {
      "text/html": [
       "<div>\n",
       "<style scoped>\n",
       "    .dataframe tbody tr th:only-of-type {\n",
       "        vertical-align: middle;\n",
       "    }\n",
       "\n",
       "    .dataframe tbody tr th {\n",
       "        vertical-align: top;\n",
       "    }\n",
       "\n",
       "    .dataframe thead th {\n",
       "        text-align: right;\n",
       "    }\n",
       "</style>\n",
       "<table border=\"1\" class=\"dataframe\">\n",
       "  <thead>\n",
       "    <tr style=\"text-align: right;\">\n",
       "      <th></th>\n",
       "      <th>NDB_No</th>\n",
       "      <th>Descrip</th>\n",
       "      <th>Energy_kcal</th>\n",
       "      <th>Protein_g</th>\n",
       "      <th>Saturated_fats_g</th>\n",
       "      <th>Fat_g</th>\n",
       "      <th>Carb_g</th>\n",
       "      <th>Fiber_g</th>\n",
       "      <th>Sugar_g</th>\n",
       "      <th>Calcium_mg</th>\n",
       "      <th>...</th>\n",
       "      <th>Thiamin_mg</th>\n",
       "      <th>Riboflavin_mg</th>\n",
       "      <th>Niacin_mg</th>\n",
       "      <th>VitB6_mg</th>\n",
       "      <th>Folate_mcg</th>\n",
       "      <th>VitB12_mcg</th>\n",
       "      <th>VitA_mcg</th>\n",
       "      <th>VitE_mg</th>\n",
       "      <th>VitD2_mcg</th>\n",
       "      <th>error_flg</th>\n",
       "    </tr>\n",
       "  </thead>\n",
       "  <tbody>\n",
       "  </tbody>\n",
       "</table>\n",
       "<p>0 rows × 30 columns</p>\n",
       "</div>"
      ],
      "text/plain": [
       "Empty DataFrame\n",
       "Columns: [NDB_No, Descrip, Energy_kcal, Protein_g, Saturated_fats_g, Fat_g, Carb_g, Fiber_g, Sugar_g, Calcium_mg, Iron_mg, Magnesium_mg, Phosphorus_mg, Potassium_mg, Sodium_mg, Zinc_mg, Copper_mcg, Manganese_mg, Selenium_mcg, VitC_mg, Thiamin_mg, Riboflavin_mg, Niacin_mg, VitB6_mg, Folate_mcg, VitB12_mcg, VitA_mcg, VitE_mg, VitD2_mcg, error_flg]\n",
       "Index: []\n",
       "\n",
       "[0 rows x 30 columns]"
      ]
     },
     "execution_count": 112,
     "metadata": {},
     "output_type": "execute_result"
    }
   ],
   "source": [
    "df['error_flg'] = df[['Protein_g','Fat_g','VitE_mg']].apply(error_flg, axis = 1)\n",
    "df[df.error_flg]"
   ]
  },
  {
   "cell_type": "code",
   "execution_count": 114,
   "id": "74acb5c0-9ebb-42f9-90e5-e7bdd0d7b35f",
   "metadata": {},
   "outputs": [],
   "source": [
    "# Remove any observations with erroneous values\n",
    "# any feature with a datatype not int or float has the entire observation removed\n",
    "\n",
    "def dtype_assert(val):\n",
    "    assert type(val) == float, \"Feature does not accept non-numeric values.\"\n",
    "\n",
    "try:\n",
    "    dtype_assert(5)\n",
    "except AssertionError as error:\n",
    "    print(error)"
   ]
  }
 ],
 "metadata": {
  "kernelspec": {
   "display_name": "Python 3 (ipykernel)",
   "language": "python",
   "name": "python3"
  },
  "language_info": {
   "codemirror_mode": {
    "name": "ipython",
    "version": 3
   },
   "file_extension": ".py",
   "mimetype": "text/x-python",
   "name": "python",
   "nbconvert_exporter": "python",
   "pygments_lexer": "ipython3",
   "version": "3.10.8"
  }
 },
 "nbformat": 4,
 "nbformat_minor": 5
}
